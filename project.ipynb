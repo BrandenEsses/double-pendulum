{
 "cells": [
  {
   "cell_type": "markdown",
   "id": "musical-crowd",
   "metadata": {},
   "source": [
    "# Double Elastic Pendulum"
   ]
  },
  {
   "cell_type": "markdown",
   "id": "a27a8361-c41a-4d80-b824-e29acacf9960",
   "metadata": {},
   "source": [
    "## Computing the Lagrangian\n",
    "\n",
    "#### Coordinate definitions\n",
    "We will be considering a double pendulum comprised of two springs.\n",
    "\n",
    "![Double Physical Pendulum](./media/dp.png)\n",
    "\n",
    "- Spring 1: Spring constant $k_1$. Length $l_1$. Equilibrium length $l_{0,1}$.\n",
    "- Spring 2: Spring constant $k_2$. Length $l_2$. Equilibrium length $l_{0,2}$.\n",
    "- Mass 1 (end of spring 1): Mass of $m_1$.\n",
    "- Mass 2 (end of spring 2): Mass of $m_2$.\n",
    "\n",
    "The generalized coordinates will be:\n",
    "- $(l_1, \\theta_1)$\n",
    "- $(l_2, \\theta_2)$\n",
    "\n",
    "#### Total kinetic energy\n",
    "$$T = \\frac{1}{2}m_1v_1^2 + \\frac{1}{2}m_2v_2^2$$\n",
    "We recall that in polar coordinates, the velocity vector is given by:\n",
    "$$\\mathbf{v}  = \\dot{r}\\hat{r} + r\\dot{\\theta}\\hat{\\theta} \\implies \\mathbf{v}^2 = \\dot{r}^2 + r^2{\\dot{\\theta}}^2$$\n",
    "The total kinetic energy is then:\n",
    "$$\\boxed{T = \\frac{1}{2}m_1\\left(\\dot{l}_1^2 + l_1^2\\dot{\\theta}_1^2\\right) + \\frac{1}{2}m_2\\left(\\dot{l}_2^2 + l_2^2\\dot{\\theta}_2^2\\right)}.$$\n",
    "\n",
    "#### Total potential energy\n",
    "This will be derived from the total gravitational potential energy of the masses as well as the associated elastic potentials. I will take the reference height to be the location of the attachment point of the first spring at $y  = 0$. Heights below this have negative gravitational potential energy.\n",
    "$$U = -m_1gl_1\\cos\\theta_1 - m_2g(l_1\\cos\\theta_1 + l_2\\cos\\theta_2) + \\frac{1}{2}k_1(l_1 - l_{01})^2 + \\frac{1}{2}k_2(l_2 - l_{02})^2$$\n",
    "$$\\boxed{U = -(m_1 + m_2)gl_1\\cos\\theta_1 - m_2gl_2\\cos\\theta_2 + \\frac{1}{2}k_1(l_1 - l_{01})^2 + \\frac{1}{2}k_2(l_2 - l_{02})^2}$$\n",
    "\n",
    "#### The Lagrangian (in polar coordinates)\n",
    "Since we have computed the total kinetic and potential energy, we can now write down the Lagrangian.\n",
    "$$\\mathcal{L} = T - U$$\n",
    "$$\\boxed{\\mathcal{L} = \\frac{1}{2}m_1\\left(\\dot{l}_1^2 + l_1^2\\dot{\\theta}_1^2\\right) + \\frac{1}{2}m_2\\left(\\dot{l}_2^2 + l_2^2\\dot{\\theta}_2^2\\right) + (m_1 + m_2)gl_1\\cos\\theta_1 + m_2gl_2\\cos\\theta_2 - \\frac{1}{2}k_1(l_1 - l_{01})^2 - \\frac{1}{2}k_2(l_2 - l_{02})^2}$$"
   ]
  },
  {
   "cell_type": "markdown",
   "id": "delayed-findings",
   "metadata": {},
   "source": [
    "## Equations of Motion\n",
    "Now that we have found the Lagrangian, need to implement the Euler - Lagrange equations to determine the equations of motion."
   ]
  },
  {
   "cell_type": "markdown",
   "id": "9382a416-d612-437f-9b41-35f61f8d4666",
   "metadata": {},
   "source": [
    "$$\\frac{d}{dt}\\left(\\frac{\\partial\\mathcal{L}}{\\partial \\dot{l}_1}\\right) = \\frac{\\partial\\mathcal{L}}{\\partial l_1}$$\n",
    "$$\\frac{d}{dt}\\left( m_1\\dot{l}_1\\right) = \\frac{1}{2}m_1\\dot{\\theta}_1^2 + (m_1+m_2)g\\cos\\theta_1 - k_1(l_1 - l_{01})$$\n",
    "$$m_1\\ddot{l}_1 = m_1l_1\\dot{\\theta}_1^2 + (m_1+m_2)g\\cos\\theta_1 - k_1(l_1 - l_{01})$$\n",
    "$$\\boxed{\\ddot{l}_1 = l_1\\dot{\\theta}_1^2 + \\frac{m_1+m_2}{m_1}g\\cos\\theta_1 - \\frac{k_1}{m_1}(l_1 - l_{01})}$$\n",
    "\n",
    "$$\\frac{d}{dt}\\left(\\frac{\\partial\\mathcal{L}}{\\partial \\dot{\\theta}_1}\\right) = \\frac{\\partial\\mathcal{L}}{\\partial \\theta_1}$$\n",
    "$$\\frac{d}{dt}\\left(m_1l_1\\dot{\\theta}_1\\right) = -(m_1+m_2)gl_1\\sin\\theta_1$$\n",
    "$$m_1\\dot{l}_1\\dot{\\theta}_1 + m_1l_1\\ddot{\\theta}_1 = -(m_1+m_2)gl_1\\sin\\theta_1$$\n",
    "$$\\boxed{\\dot{l}_1\\dot{\\theta}_1 + l_1\\ddot{\\theta}_1 = -\\frac{m_1+m_2}{m_1}gl_1\\sin\\theta_1}$$\n",
    "\n",
    "$$\\frac{d}{dt}\\left(\\frac{\\partial\\mathcal{L}}{\\partial \\dot{l}_2}\\right) = \\frac{\\partial\\mathcal{L}}{\\partial l_2}$$\n",
    "$$\\frac{d}{dt}\\left(m_2\\dot{l}_2\\right) = \\frac{1}{2}m_2\\dot{\\theta}_2^2 + m_2g\\cos\\theta_2 - k_2(l_2-l_{02})$$\n",
    "$$m_2\\ddot{l}_2 = m_2l_2\\dot{\\theta}_2^2 + m_2g\\cos\\theta_2 - k_2(l_2-l_{02})$$\n",
    "$$\\boxed{\\ddot{l}_2 = l_2\\dot{\\theta}_2^2 + g\\cos\\theta_2 - \\frac{k_2}{m_2}(l_2-l_{02})}$$\n",
    "\n",
    "$$\\frac{d}{dt}\\left(\\frac{\\partial\\mathcal{L}}{\\partial \\dot{\\theta}_2}\\right) = \\frac{\\partial\\mathcal{L}}{\\partial \\theta_2}$$\n",
    "$$\\frac{d}{dt}\\left(m_2l_2\\dot{\\theta}_2\\right) = -m_2gl_2\\sin\\theta_2$$\n",
    "$$m_2\\dot{l}_2\\dot{\\theta}_2 + m_2l_2\\ddot{\\theta}_2 = -m_2gl_2\\sin\\theta_2$$\n",
    "$$\\boxed{\\dot{l}_2\\dot{\\theta}_2 + l_2\\ddot{\\theta}_2 = -gl_2\\sin\\theta_2}$$"
   ]
  },
  {
   "cell_type": "markdown",
   "id": "4e0abace-59f7-4a63-aa66-d49b60d71650",
   "metadata": {},
   "source": [
    "# Converting the ODES to First Order Systems\n",
    "Essentially all ODE solvers will act on first order systems rather than a single second order ODE. Thus, we convert each equation to a first order system. I will do this by introducing the following.\n",
    "$$z_1 = \\dot{l}_1 \\quad z_2 = \\dot{\\theta}_1 \\quad z_3 = \\dot{l}_2 \\quad z_4 = \\dot{\\theta}_2$$\n",
    "The resulting systems are then:\n",
    "$$\\boxed{z_1 = \\dot{l}_1, \\quad \\dot{z}_1 =l_1\\dot{\\theta}_1^2 + \\frac{m_1 + m_2}{m_1}g\\cos\\theta_1-\\frac{k_1}{m_1}\\left(l_1 - l_{01}\\right)},$$\n",
    "$$\\boxed{z_2 = \\dot{\\theta}_1, \\quad \\dot{l}_1z_2 + l_1\\dot{z}_2 = -\\frac{m_1 + m_2}{m_1}gl_1\\sin\\theta_1},$$\n",
    "$$\\boxed{z_3 = \\dot{l}_2, \\quad \\dot{z}_3 = l_2\\dot{\\theta}_2^2 + g\\cos\\theta_2 - \\frac{k_2}{m_2}(l_2-l_{02})},$$\n",
    "$$\\boxed{z_4 = \\dot{\\theta}_2 \\quad \\dot{l}_2z_4 + l_2\\dot{z}_4 = -gl_2\\sin\\theta_2 }$$"
   ]
  },
  {
   "cell_type": "markdown",
   "id": "ff876b28-e003-4315-8900-e5f8f073e27a",
   "metadata": {},
   "source": [
    "# Solving the Nonlinear ODEs"
   ]
  },
  {
   "cell_type": "code",
   "execution_count": 1,
   "id": "77b28732-80d5-45c4-96ae-a37b12ac51eb",
   "metadata": {},
   "outputs": [
    {
     "name": "stdout",
     "output_type": "stream",
     "text": [
      "Pendulum module imported!\n"
     ]
    }
   ],
   "source": [
    "from pendulum import *"
   ]
  },
  {
   "cell_type": "markdown",
   "id": "c944acd3-8d1f-4a48-bc99-964a7aaa452a",
   "metadata": {},
   "source": [
    "We can specify the physical constants of the system."
   ]
  },
  {
   "cell_type": "code",
   "execution_count": 2,
   "id": "f7810d46-fdb1-4ee7-868c-1bf6c5737e5a",
   "metadata": {},
   "outputs": [],
   "source": [
    "m1 = 1 # Mass of mass 1 (kg)\n",
    "m2 = 1 # Mass of mass 2 (kg)\n",
    "k1 = 10 # Spring constant of spring 1 (N/m)\n",
    "l01 = 1 # Equilibrium length of spring 1 (m)\n",
    "k2 = 10 # Spring constant of spring 2 (N/m)\n",
    "l02 = 1 # Equilibrium length of spring 2 (m)"
   ]
  },
  {
   "cell_type": "markdown",
   "id": "d11a84a4-be5e-44fb-a906-01cb4e8d6347",
   "metadata": {},
   "source": [
    "Since we are solving 8 first order ODEs, we will need to specify eight pieces of initial data to fully specify the solution."
   ]
  },
  {
   "cell_type": "code",
   "execution_count": 3,
   "id": "5015b947-35a5-4462-af8d-7e5c1ab8e891",
   "metadata": {},
   "outputs": [],
   "source": [
    "# Spring 1 initial data\n",
    "l10 = 1 # Initial length of spring 1 (m)\n",
    "l1dot0 = 0 # Initial velocity of spring 1 length (m/s)\n",
    "theta10 = np.pi/2 # Initial angular displacement of spring 1 (rad)\n",
    "theta1dot0 = 0.5 # Initial angular velocity of spring 1 (rad/s)"
   ]
  },
  {
   "cell_type": "code",
   "execution_count": 4,
   "id": "16339ee7-cae3-479f-adc9-50d5ac5af4dc",
   "metadata": {},
   "outputs": [],
   "source": [
    "# Spring 2 initial data\n",
    "l20 = 1 # Initial length of spring 2 (m)\n",
    "l2dot0 = 0 # Initial velocity of spring 2 length (m/s)\n",
    "theta20 = -np.pi/6 # Initial angular displacement of spring 2 (rad)\n",
    "theta2dot0 = 0.5 # Initial angular velocity of spring 2 (rad/s)"
   ]
  },
  {
   "cell_type": "markdown",
   "id": "7dc0292a-9f09-4f65-bd62-27c9f92ac2df",
   "metadata": {},
   "source": [
    "We can also specify the timescale which we would like to consider."
   ]
  },
  {
   "cell_type": "code",
   "execution_count": 5,
   "id": "e98afb29-9c81-47c7-bedb-519c5fc45c99",
   "metadata": {},
   "outputs": [],
   "source": [
    "Tmin = 0 # Minimum time (s)\n",
    "Tmax = 10 #Maximum time (s)\n",
    "numpoints = 1000 # Number of entries in t array"
   ]
  },
  {
   "cell_type": "markdown",
   "id": "2fb02b44-9828-4cfd-909c-9bdac0a2a6b1",
   "metadata": {},
   "source": [
    "With all parameters specified, we can call the ODE solver to obtain a solution for all of the ODEs."
   ]
  },
  {
   "cell_type": "code",
   "execution_count": 6,
   "id": "d04195de-8ff3-436e-a022-b26319f77702",
   "metadata": {},
   "outputs": [],
   "source": [
    "# Preparing data for the ODE solver\n",
    "initial_conditions = [(l10,l1dot0,theta10,theta1dot0),  (l20,l2dot0,theta20,theta2dot0)] # Construct initial data array\n",
    "constants = (m1,m2,k1,k2,l01,l02) # Construct physical constants tuple\n",
    "t = np.linspace(Tmin, Tmax, numpoints) # Construct t array\n",
    "l1, theta1, l2, theta2 = solve_ode(initial_conditions, t, constants) # Send everything to the ODE solver"
   ]
  },
  {
   "cell_type": "markdown",
   "id": "74f6da22-d61c-433f-886f-eee9d433bbb3",
   "metadata": {},
   "source": [
    "# Converstion to Cartesian for Plotting"
   ]
  },
  {
   "cell_type": "code",
   "execution_count": 7,
   "id": "01da4ff5-b52e-4693-ad33-0070ef98ca06",
   "metadata": {},
   "outputs": [],
   "source": [
    "x1, y1, x2, y2 = convert_to_cartesian(l1, theta1, l2, theta2)"
   ]
  },
  {
   "cell_type": "code",
   "execution_count": 8,
   "id": "dde7d709-2fb8-436b-add9-3068665e4039",
   "metadata": {},
   "outputs": [
    {
     "data": {
      "text/plain": [
       "<matplotlib.collections.PathCollection at 0x7f6f0e62de20>"
      ]
     },
     "execution_count": 8,
     "metadata": {},
     "output_type": "execute_result"
    },
    {
     "data": {
      "image/png": "[encoded data removed]",
      "text/plain": [
       "<Figure size 432x288 with 1 Axes>"
      ]
     },
     "metadata": {
      "needs_background": "light"
     },
     "output_type": "display_data"
    }
   ],
   "source": [
    "plt.scatter(x1,y1)"
   ]
  },
  {
   "cell_type": "code",
   "execution_count": 9,
   "id": "acc6549f-cbf4-4775-bee8-bfb3f7c830a9",
   "metadata": {},
   "outputs": [
    {
     "data": {
      "text/plain": [
       "<matplotlib.collections.PathCollection at 0x7f6f0e52b130>"
      ]
     },
     "execution_count": 9,
     "metadata": {},
     "output_type": "execute_result"
    },
    {
     "data": {
      "image/png": "[encoded data removed]",
      "text/plain": [
       "<Figure size 432x288 with 1 Axes>"
      ]
     },
     "metadata": {
      "needs_background": "light"
     },
     "output_type": "display_data"
    }
   ],
   "source": [
    "plt.scatter(x2,y2)"
   ]
  },
  {
   "cell_type": "markdown",
   "id": "210e7f1b-4e8c-42eb-92aa-30a5dec34393",
   "metadata": {},
   "source": [
    "# Visualization"
   ]
  },
  {
   "cell_type": "markdown",
   "id": "7b422124-b27e-4a86-beca-347502f863fc",
   "metadata": {},
   "source": [
    "This animation method seems to be buggy on my end. I am able to produce an animation in the notebook though. If that doesn't work, I am using `ani.save()` to write the frames to a `.mp4` file, which depends on `ffmpeg`."
   ]
  },
  {
   "cell_type": "code",
   "execution_count": 10,
   "id": "6e6d7a1e-f85a-4971-b68b-38cef0c3dfb5",
   "metadata": {},
   "outputs": [
    {
     "data": {
      "application/vnd.jupyter.widget-view+json": {
       "model_id": "4ad20bd1c54947e2982b73533c034836",
       "version_major": 2,
       "version_minor": 0
      },
      "text/plain": [
       "Canvas(toolbar=Toolbar(toolitems=[('Home', 'Reset original view', 'home', 'home'), ('Back', 'Back to previous …"
      ]
     },
     "metadata": {},
     "output_type": "display_data"
    }
   ],
   "source": [
    "%matplotlib widget\n",
    "fig = plt.figure()\n",
    "ax = fig.add_subplot(111, autoscale_on=False, xlim=(-10, 10), ylim=(-10, 10))\n",
    "ax.grid()\n",
    "\n",
    "line, = ax.plot([], [], 'o-', lw=2)\n",
    "time_template = 'time = %.1fs'\n",
    "time_text = ax.text(0.05, 0.9, '', transform=ax.transAxes)\n",
    "\n",
    "\n",
    "def init():\n",
    "    line.set_data([], [])\n",
    "    time_text.set_text('')\n",
    "    return line, time_text\n",
    "\n",
    "\n",
    "def animate(i):\n",
    "    thisx = [0, x1[i], x2[i]]\n",
    "    thisy = [0, y1[i], y2[i]]\n",
    "    dt = t[1] - t[0]\n",
    "    line.set_data(thisx, thisy)\n",
    "    time_text.set_text(time_template % (i*dt))\n",
    "    return line, time_text\n",
    "\n",
    "ani = animation.FuncAnimation(fig, animate, np.arange(1, len(t)),\n",
    "                              interval=25, blit=True, init_func=init)\n",
    "\n",
    "ani.save('media/double_pendulum.mp4', fps=60)\n",
    "plt.show()"
   ]
  }
 ],
 "metadata": {
  "kernelspec": {
   "display_name": "Python 3",
   "language": "python",
   "name": "python3"
  },
  "language_info": {
   "codemirror_mode": {
    "name": "ipython",
    "version": 3
   },
   "file_extension": ".py",
   "mimetype": "text/x-python",
   "name": "python",
   "nbconvert_exporter": "python",
   "pygments_lexer": "ipython3",
   "version": "3.8.5"
  }
 },
 "nbformat": 4,
 "nbformat_minor": 5
}
