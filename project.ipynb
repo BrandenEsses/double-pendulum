{
 "cells": [
  {
   "cell_type": "markdown",
   "id": "musical-crowd",
   "metadata": {},
   "source": [
    "# Double Elastic Pendulum"
   ]
  },
  {
   "cell_type": "markdown",
   "id": "retained-labor",
   "metadata": {},
   "source": [
    "## The Lagrangian\n",
    "We will be considering a double pendulum comprised of two springs.\n",
    "\n",
    "- Spring 1: Spring constant $k_1$. Length $l_1$. Equilibrium length $l_{0,1}$.\n",
    "- Spring 2: Spring constant $k_2$. Equilibrium length $l_{0,2}$.\n",
    "- Mass 1 (end of spring 1): Mass of $m_1$. Location $(x_1, y_1)$.\n",
    "- Mass 2 (end of spring 2): Mass of $m_2$. Location $(x_2, y_2)$.\n",
    "\n",
    "The generalized coordinates will be:\n",
    "- \n",
    "\n",
    "Kinetic energy of mass 1:\n",
    "$$T_1 = \\frac{1}{2}m_1(\\dot{x}_1^2 + \\dot{y}_1^2)$$\n",
    "Potential energy of mass 1 (gravitational and elastic):\n",
    "$$U_1 = -m_1 g y_1\\cos\\theta_1 + \\frac{1}{2}k_1(l_1 - l_{01})^2$$\n",
    "$$U_1 = -m_1 g l_1\\cos\\theta_1 + \\frac{1}{2}k_1(l_1 - l_{01})^2$$\n",
    "\n",
    "Kinetic energy of mass 2:\n",
    "$$T_2 = \\frac{1}{2}m_2(\\dot{x}_2^2 + \\dot{y}_2^2)$$\n",
    "Potential energy of mass 2 (gravitational and elastic):\n",
    "We note that this mass has a gravitational potential dependent on the orientations of both springs.\n",
    "$$U_2 = -y_2\\cos\\theta_2 - y_1\\cos\\theta_1 + \\frac{1}{2}k_2(l_2 - l_{02})^2$$\n",
    "$$U_2 = -m_2 g l_2\\cos\\theta_2 - m_2 g l_1\\cos\\theta_1 + \\frac{1}{2}k_2(l_2 - l_{02})^2$$\n",
    "\n",
    "Total kinetic energy:\n",
    "$$T = T_1 + T_2$$\n",
    "$$T = \\frac{1}{2}m_1(\\dot{x}_1^2 + \\dot{y}_1^2) + \\frac{1}{2}m_2(\\dot{x}_2^2 + \\dot{y}_2^2)$$\n",
    "\n",
    "Total potential energy:\n",
    "$$U = U_1 + U_2$$\n",
    "$$U = m_1 g l_1\\cos\\theta_1 + \\frac{1}{2}k_1(l_1 - l_{01})^2 - m_2 g l_2\\cos\\theta_2 - m_2 g l_1\\cos\\theta_1 + \\frac{1}{2}k_2(l_2 - l_{02})^2$$\n",
    "\n",
    "The Lagrangian:\n",
    "$$\\mathcal{L} = T - U$$\n",
    "$$\\mathcal{L} = \\frac{1}{2}m_1(\\dot{x}_1^2 + \\dot{y}_1^2) + \\frac{1}{2}m_2(\\dot{x}_2^2 + \\dot{y}_2^2) + m_1 g l_1\\cos\\theta_1 - \\frac{1}{2}k_1(l_1 - l_{01})^2 + m_2 g l_2\\cos\\theta_2 + m_2 g l_1\\cos\\theta_1 - \\frac{1}{2}k_2(l_2 - l_{02})^2$$\n",
    "$$\\mathcal{L} = \\frac{1}{2}m_1(\\dot{x}_1^2 + \\dot{y}_1^2) + \\frac{1}{2}m_2(\\dot{x}_2^2 + \\dot{y}_2^2) + m_1 g l_1\\cos\\theta_1  + m_2 g (l_1\\cos\\theta_1 + l_2\\cos\\theta_2)  - \\frac{1}{2}k_1(l_1 - l_{01})^2 - \\frac{1}{2}k_2(l_2 - l_{02})^2$$\n",
    "We note that $l_1 = \\sqrt{x_1^2 + y_1^2}$ and $l_2 = \\sqrt{x_2^2 + y_2^2}$. So, finally, in Cartesian:\n",
    "$$\\boxed{\\mathcal{L} = \\frac{1}{2}m_1(\\dot{x}_1^2 + \\dot{y}_1^2) + \\frac{1}{2}m_2(\\dot{x}_2^2 + \\dot{y}_2^2) + m_1 g \\sqrt{x_1^2 + y_1^2}\\cos\\theta_1  + m_2 g \\left(\\sqrt{x_1^2 + y_1^2}\\cos\\theta_1 + \\sqrt{x_2^2 + y_2^2}\\cos\\theta_2\\right)  - \\frac{1}{2}k_1\\left(\\sqrt{x_1^2 + y_1^2} - l_{01}\\right)^2 - \\frac{1}{2}k_2\\left(\\sqrt{x_2^2 + y_2^2} - l_{02}\\right)^2}$$"
   ]
  },
  {
   "cell_type": "markdown",
   "id": "delayed-findings",
   "metadata": {},
   "source": [
    "# Equations of Motion\n",
    "Now that we have found the Lagrangian, we just need to implement the Euler - Lagrange equations to determine the equations of motion."
   ]
  },
  {
   "cell_type": "code",
   "execution_count": null,
   "id": "constitutional-nylon",
   "metadata": {},
   "outputs": [],
   "source": []
  }
 ],
 "metadata": {
  "kernelspec": {
   "display_name": "Python 3",
   "language": "python",
   "name": "python3"
  },
  "language_info": {
   "codemirror_mode": {
    "name": "ipython",
    "version": 3
   },
   "file_extension": ".py",
   "mimetype": "text/x-python",
   "name": "python",
   "nbconvert_exporter": "python",
   "pygments_lexer": "ipython3",
   "version": "3.8.5"
  }
 },
 "nbformat": 4,
 "nbformat_minor": 5
}
