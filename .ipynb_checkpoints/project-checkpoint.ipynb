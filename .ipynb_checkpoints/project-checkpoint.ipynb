{
 "cells": [
  {
   "cell_type": "markdown",
   "id": "musical-crowd",
   "metadata": {},
   "source": [
    "# Double Elastic Pendulum"
   ]
  },
  {
   "cell_type": "markdown",
   "id": "a27a8361-c41a-4d80-b824-e29acacf9960",
   "metadata": {},
   "source": [
    "## Computing the Lagrangian\n",
    "\n",
    "#### Coordinate definitions\n",
    "We will be considering a double pendulum comprised of two springs.\n",
    "\n",
    "- Spring 1: Spring constant $k_1$. Length $l_1$. Equilibrium length $l_{0,1}$.\n",
    "- Spring 2: Spring constant $k_2$. Length $l_1$. Equilibrium length $l_{0,2}$.\n",
    "- Mass 1 (end of spring 1): Mass of $m_1$.\n",
    "- Mass 2 (end of spring 2): Mass of $m_2$.\n",
    "\n",
    "The generalized coordinates will be:\n",
    "- $(l_1, \\theta_1)$\n",
    "- $(l_2, \\theta_2)$\n",
    "\n",
    "#### Total kinetic energy\n",
    "$$T = \\frac{1}{2}m_1v_1^2 + \\frac{1}{2}m_2v_2^2$$\n",
    "We recall that in polar coordinates, the velocity vector is given by:\n",
    "$$\\mathbf{v}  = \\dot{r}\\hat{r} + r\\dot{\\theta}\\hat{\\theta} \\implies \\mathbf{v}^2 = \\dot{r}^2 + r^2{\\dot{\\theta}}^2$$\n",
    "The total kinetic energy is then:\n",
    "$$\\boxed{T = \\frac{1}{2}m_1\\left(\\dot{l}_1^2 + l_1\\dot{\\theta}_1^2\\right) + \\frac{1}{2}m_2\\left(\\dot{l}_2^2 + l_2\\dot{\\theta}_2^2\\right)}.$$\n",
    "\n",
    "#### Total potential energy\n",
    "This will be derived from the total gravitational potential energy of the masses as well as the associated elastic potentials. I will take the reference height to be the location of the attachment point of the first spring at $y  = 0$. Heights below this have negative gravitational potential energy.\n",
    "$$U = -m_1gl_1\\cos\\theta_1 - m_2g(l_1\\cos\\theta_1 + l_2\\cos\\theta_2) + \\frac{1}{2}k_1(l_1 - l_{01})^2 + \\frac{1}{2}k_2(l_2 - l_{02})^2$$\n",
    "$$\\boxed{U = -(m_1 + m_2)gl_1\\cos\\theta_1 - m_2gl_2\\cos\\theta_2 + \\frac{1}{2}k_1(l_1 - l_{01})^2 + \\frac{1}{2}k_2(l_2 - l_{02})^2}$$\n",
    "\n",
    "#### The Lagrangian (in polar coordinates)\n",
    "Since we have computed the total kinetic and potential energy, we can now write down the Lagrangian.\n",
    "$$\\mathcal{L} = T - U$$\n",
    "$$\\boxed{\\mathcal{L} = \\frac{1}{2}m_1\\left(\\dot{l}_1^2 + l_1\\dot{\\theta}_1^2\\right) + \\frac{1}{2}m_2\\left(\\dot{l}_2^2 + l_2\\dot{\\theta}_2^2\\right) + (m_1 + m_2)gl_1\\cos\\theta_1 + m_2gl_2\\cos\\theta_2 - \\frac{1}{2}k_1(l_1 - l_{01})^2 - \\frac{1}{2}k_2(l_2 - l_{02})^2}$$\n",
    "\n",
    "\n",
    "\n",
    "\n",
    "<!-- Kinetic energy of mass 1:\n",
    "$$T_1 = \\frac{1}{2}m_1(\\dot{x}_1^2 + \\dot{y}_1^2)$$\n",
    "Potential energy of mass 1 (gravitational and elastic):\n",
    "$$U_1 = -m_1 g y_1\\cos\\theta_1 + \\frac{1}{2}k_1(l_1 - l_{01})^2$$\n",
    "$$U_1 = -m_1 g l_1\\cos\\theta_1 + \\frac{1}{2}k_1(l_1 - l_{01})^2$$\n",
    "\n",
    "Kinetic energy of mass 2:\n",
    "$$T_2 = \\frac{1}{2}m_2(\\dot{x}_2^2 + \\dot{y}_2^2)$$\n",
    "Potential energy of mass 2 (gravitational and elastic):\n",
    "We note that this mass has a gravitational potential dependent on the orientations of both springs.\n",
    "$$U_2 = -y_2\\cos\\theta_2 - y_1\\cos\\theta_1 + \\frac{1}{2}k_2(l_2 - l_{02})^2$$\n",
    "$$U_2 = -m_2 g l_2\\cos\\theta_2 - m_2 g l_1\\cos\\theta_1 + \\frac{1}{2}k_2(l_2 - l_{02})^2$$\n",
    "\n",
    "Total kinetic energy:\n",
    "$$T = T_1 + T_2$$\n",
    "$$T = \\frac{1}{2}m_1(\\dot{x}_1^2 + \\dot{y}_1^2) + \\frac{1}{2}m_2(\\dot{x}_2^2 + \\dot{y}_2^2)$$\n",
    "\n",
    "Total potential energy:\n",
    "$$U = U_1 + U_2$$\n",
    "$$U = m_1 g l_1\\cos\\theta_1 + \\frac{1}{2}k_1(l_1 - l_{01})^2 - m_2 g l_2\\cos\\theta_2 - m_2 g l_1\\cos\\theta_1 + \\frac{1}{2}k_2(l_2 - l_{02})^2$$\n",
    "\n",
    "The Lagrangian:\n",
    "$$\\mathcal{L} = T - U$$\n",
    "$$\\mathcal{L} = \\frac{1}{2}m_1(\\dot{x}_1^2 + \\dot{y}_1^2) + \\frac{1}{2}m_2(\\dot{x}_2^2 + \\dot{y}_2^2) + m_1 g l_1\\cos\\theta_1 - \\frac{1}{2}k_1(l_1 - l_{01})^2 + m_2 g l_2\\cos\\theta_2 + m_2 g l_1\\cos\\theta_1 - \\frac{1}{2}k_2(l_2 - l_{02})^2$$\n",
    "$$\\mathcal{L} = \\frac{1}{2}m_1(\\dot{x}_1^2 + \\dot{y}_1^2) + \\frac{1}{2}m_2(\\dot{x}_2^2 + \\dot{y}_2^2) + m_1 g l_1\\cos\\theta_1  + m_2 g (l_1\\cos\\theta_1 + l_2\\cos\\theta_2)  - \\frac{1}{2}k_1(l_1 - l_{01})^2 - \\frac{1}{2}k_2(l_2 - l_{02})^2$$\n",
    "We note that $l_1 = \\sqrt{x_1^2 + y_1^2}$ and $l_2 = \\sqrt{x_2^2 + y_2^2}$. So, finally, in Cartesian:\n",
    "$$\\mathcal{L} = \\frac{1}{2}m_1(\\dot{x}_1^2 + \\dot{y}_1^2) + \\frac{1}{2}m_2(\\dot{x}_2^2 + \\dot{y}_2^2) + m_1 g \\sqrt{x_1^2 + y_1^2}\\cos\\theta_1  + m_2 g \\left(\\sqrt{x_1^2 + y_1^2}\\cos\\theta_1 + \\sqrt{x_2^2 + y_2^2}\\cos\\theta_2\\right)  - \\frac{1}{2}k_1\\left(\\sqrt{x_1^2 + y_1^2} - l_{01}\\right)^2 - \\frac{1}{2}k_2\\left(\\sqrt{x_2^2 + y_2^2} - l_{02}\\right)^2$$\n",
    "However, we can see that $\\cos\\theta_1 = y_1/\\sqrt{x_1^2 + y_1^2}$ and $\\cos\\theta_2 = y_2/\\sqrt{x_2^2 + y_2^2}$. So:\n",
    "$$\\boxed{\\mathcal{L} = \\frac{1}{2}m_1(\\dot{x}_1^2 + \\dot{y}_1^2) + \\frac{1}{2}m_2(\\dot{x}_2^2 + \\dot{y}_2^2) + m_1 g y_1  + m_2 g \\left(y_1 + y_2\\right)  - \\frac{1}{2}k_1\\left(\\sqrt{x_1^2 + y_1^2} - l_{01}\\right)^2 - \\frac{1}{2}k_2\\left(\\sqrt{x_2^2 + y_2^2} - l_{02}\\right)^2}.$$\n",
    "with generalized coordinates $\\mathbf{(x_1, y_1)}$ and $\\mathbf{(x_2, y_2)}$. It might be easier to consider the Lagrangian in polar coordinates.\n",
    "\n",
    "$$\\boxed{\\mathcal{L} = \\frac{1}{2}m_1\\left(\\dot{l}_1^2 + l_1^2\\dot{\\theta}_1^2\\right) + \\frac{1}{2}m_2\\left(\\dot{l}_2^2 + l_2^2\\dot{\\theta}_2^2\\right) + m_1 g l_1\\cos\\theta_1  + m_2 g \\left(l_1\\cos\\theta_1 + l_2\\cos\\theta_2\\right)  - \\frac{1}{2}k_1\\left(l_1 - l_{01}\\right)^2 - \\frac{1}{2}k_2\\left(l_2 - l_{02}\\right)^2},$$\n",
    "with generalized coordinates $\\mathbf{(l_1, \\theta_1)}$ and $\\mathbf{(l_2, \\theta_2)}$. -->"
   ]
  },
  {
   "cell_type": "markdown",
   "id": "delayed-findings",
   "metadata": {},
   "source": [
    "## Equations of Motion\n",
    "Now that we have found the Lagrangian, need to implement the Euler - Lagrange equations to determine the equations of motion."
   ]
  },
  {
   "cell_type": "markdown",
   "id": "9382a416-d612-437f-9b41-35f61f8d4666",
   "metadata": {},
   "source": [
    "$$\\frac{d}{dt}\\left(\\frac{\\partial\\mathcal{L}}{\\partial \\dot{l}_1}\\right) = \\frac{\\partial\\mathcal{L}}{\\partial l_1}$$\n",
    "$$\\frac{d}{dt}\\left( m_1\\dot{l}_1\\right) = \\frac{1}{2}m_1\\dot{\\theta}_1^2 + (m_1+m_2)g\\cos\\theta_1 - k_1(l_1 - l_{01})$$\n",
    "$$m_1\\ddot{l}_1 = \\frac{1}{2}m_1\\dot{\\theta}_1^2 + (m_1+m_2)g\\cos\\theta_1 - k_1(l_1 - l_{01})$$\n",
    "$$\\boxed{\\ddot{l}_1 = \\frac{1}{2}\\dot{\\theta}_1^2 + \\frac{m_1+m_2}{m_1}g\\cos\\theta_1 - \\frac{k_1}{m_1}(l_1 - l_{01})}$$\n",
    "\n",
    "$$\\frac{d}{dt}\\left(\\frac{\\partial\\mathcal{L}}{\\partial \\dot{\\theta}_1}\\right) = \\frac{\\partial\\mathcal{L}}{\\partial \\theta_1}$$\n",
    "$$\\frac{d}{dt}\\left(m_1l_1\\dot{\\theta}_1\\right) = -(m_1+m_2)gl_1\\sin\\theta_1$$\n",
    "$$m_1\\dot{l}_1\\dot{\\theta}_1 + m_1l_1\\ddot{\\theta}_1 = -(m_1+m_2)gl_1\\sin\\theta_1$$\n",
    "$$\\boxed{\\dot{l}_1\\dot{\\theta}_1 + l_1\\ddot{\\theta}_1 = -\\frac{m_1+m_2}{m_1}gl_1\\sin\\theta_1}$$\n",
    "\n",
    "$$\\frac{d}{dt}\\left(\\frac{\\partial\\mathcal{L}}{\\partial \\dot{l}_2}\\right) = \\frac{\\partial\\mathcal{L}}{\\partial l_2}$$\n",
    "$$\\frac{d}{dt}\\left(m_2\\dot{l}_2\\right) = \\frac{1}{2}m_2\\dot{\\theta}_2^2 + m_2g\\cos\\theta_2 - k_2(l_2-l_{02})$$\n",
    "$$m_2\\ddot{l}_2 = \\frac{1}{2}m_2\\dot{\\theta}_2^2 + m_2g\\cos\\theta_2 - k_2(l_2-l_{02})$$\n",
    "$$\\boxed{\\ddot{l}_2 = \\frac{1}{2}\\dot{\\theta}_2^2 + g\\cos\\theta_2 - \\frac{k_2}{m_2}(l_2-l_{02})}$$\n",
    "\n",
    "$$\\frac{d}{dt}\\left(\\frac{\\partial\\mathcal{L}}{\\partial \\dot{\\theta}_2}\\right) = \\frac{\\partial\\mathcal{L}}{\\partial \\theta_2}$$\n",
    "$$\\frac{d}{dt}\\left(m_2l_2\\dot{\\theta}_2\\right) = -m_2gl_2\\sin\\theta_2$$\n",
    "$$m_2\\dot{l}_2\\dot{\\theta}_2 + m_2l_2\\ddot{\\theta}_2 = -m_2gl_2\\sin\\theta_2$$\n",
    "$$\\boxed{\\dot{l}_2\\dot{\\theta}_2 + l_2\\ddot{\\theta}_2 = -gl_2\\sin\\theta_2}$$"
   ]
  },
  {
   "cell_type": "markdown",
   "id": "4e0abace-59f7-4a63-aa66-d49b60d71650",
   "metadata": {},
   "source": [
    "# Converting the ODES to First Order Systems\n",
    "Essentially all ODE solvers will act on first order systems rather than a single second order ODE. Thus, we convert each equation to a first order system. I will do this by introducing the following.\n",
    "$$z_1 = \\dot{l}_1 \\quad z_2 = \\dot{\\theta}_1 \\quad z_3 = \\dot{l}_2 \\quad z_4 = \\dot{\\theta}_2$$\n",
    "The resulting systems are then:\n",
    "$$\\boxed{z_1 = \\dot{l}_1, \\quad \\dot{z}_1 =\\frac{1}{2}\\dot{\\theta}_1^2 + \\frac{m_1 + m_2}{m_1}g\\cos\\theta_1-\\frac{k_1}{m_1}\\left(l_1 - l_{01}\\right)},$$\n",
    "$$\\boxed{z_2 = \\dot{\\theta}_1, \\quad \\dot{l}_1z_2 + l_1\\dot{z}_2 = -\\frac{m_1 + m_2}{m_1}gl_1\\sin\\theta_1},$$\n",
    "$$\\boxed{z_3 = \\dot{l}_2, \\quad \\dot{z}_3 = \\frac{1}{2}\\dot{\\theta}_2^2 + g\\cos\\theta_2 - \\frac{k_2}{m_2}(l_2-l_{02})},$$\n",
    "$$\\boxed{z_4 = \\dot{\\theta}_2 \\quad \\dot{l}_2z_4 + l_2\\dot{z}_4 = -gl_2\\sin\\theta_2 }$$"
   ]
  },
  {
   "cell_type": "markdown",
   "id": "ff876b28-e003-4315-8900-e5f8f073e27a",
   "metadata": {},
   "source": [
    "# Solving the Nonlinear ODEs"
   ]
  },
  {
   "cell_type": "markdown",
   "id": "cfa37247-d17b-4051-95e3-bdd113b09292",
   "metadata": {
    "tags": []
   },
   "source": [
    "We have four second order ODEs. We know that to fully specify a solution for all four equations, we will require a total of **eight** initial conditions. Physically, we know that these would need to be starting positions and velocities in each coordinate, i.e:\n",
    "$$x_1(0) = x_{01} \\quad \\dot{x}_1(0) = \\dot{x}_{01} \\quad y_1(0) = y_{01} \\quad \\dot{y}_1(0) = \\dot{y}_{01}$$\n",
    "$$x_2(0) = x_{02} \\quad \\dot{x}_2(0) = \\dot{x}_{02} \\quad y_2(0) = y_{02} \\quad \\dot{y}_2(0) = \\dot{y}_{02}$$"
   ]
  },
  {
   "cell_type": "code",
   "execution_count": 1,
   "id": "77b28732-80d5-45c4-96ae-a37b12ac51eb",
   "metadata": {},
   "outputs": [
    {
     "name": "stdout",
     "output_type": "stream",
     "text": [
      "Pendulum module successfully imported!\n"
     ]
    }
   ],
   "source": [
    "from pendulum import *"
   ]
  },
  {
   "cell_type": "code",
   "execution_count": 10,
   "id": "d04195de-8ff3-436e-a022-b26319f77702",
   "metadata": {},
   "outputs": [
    {
     "name": "stdout",
     "output_type": "stream",
     "text": [
      "(array([[ 1.        ,  0.        ,  1.        , ...,  0.        ,\n",
      "         0.78539816,  0.        ],\n",
      "       [ 1.00069372,  0.13875133,  1.00034685, ...,  0.06937166,\n",
      "         0.78505127, -0.06939125],\n",
      "       [ 1.00277537,  0.27760438,  1.00138753, ...,  0.13877028,\n",
      "         0.78400985, -0.13892678],\n",
      "       ...,\n",
      "       [ 0.        ,  0.        ,  0.        , ...,  0.        ,\n",
      "         0.        ,  0.        ],\n",
      "       [ 0.        ,  0.        ,  0.        , ...,  0.        ,\n",
      "         0.        ,  0.        ],\n",
      "       [ 0.        ,  0.        ,  0.        , ...,  0.        ,\n",
      "         0.        ,  0.        ]]), {'hu': array([0.00128805, 0.00589974, 0.00472159, ..., 0.        , 0.        ,\n",
      "       0.        ]), 'tcur': array([0.11004409, 0.12184357, 0.13246491, ..., 0.        , 0.        ,\n",
      "       0.        ]), 'tolsf': array([0., 0., 0., ..., 0., 0., 0.]), 'tsw': array([0.1, 0.1, 0.1, ..., 0. , 0. , 0. ]), 'nst': array([        13,         15,         17, ...,      32628, -806059408,\n",
      "            32628], dtype=int32), 'nfe': array([31, 35, 41, ...,  0,  0,  0], dtype=int32), 'nje': array([0, 0, 0, ..., 0, 0, 0], dtype=int32), 'nqu': array([3, 3, 3, ..., 0, 0, 0], dtype=int32), 'imxer': -1, 'lenrw': 158, 'leniw': 28, 'mused': array([1, 1, 1, ..., 0, 0, 0], dtype=int32), 'message': 'Excess work done on this call (perhaps wrong Dfun type).'})\n"
     ]
    }
   ],
   "source": [
    "initial_conditions = [(1,0,1,0,np.pi/4,0,np.pi/4,0)  ,  (1,0,1,0,np.pi/4,0,np.pi/4,0)] # (l1(0), l1dot(0), l2(0), l2dot(0), theta1(0), theta1dot(0), theta2(0), theta2dot(0)) \n",
    "constants = (1,1,10,10,1,1) # (m1,m2,k1,k2,l01,l02)\n",
    "tmax, dt = 30, 0.01\n",
    "t = np.arange(0.1, tmax+dt, dt)\n",
    "soln = solve_ode(initial_conditions, t, constants)\n",
    "# l1 = soln[:][0]\n",
    "# theta1 = soln[:][2]\n",
    "# l2 = soln[:][4]\n",
    "# theta2 = soln[:][6]\n",
    "print(soln)"
   ]
  },
  {
   "cell_type": "code",
   "execution_count": null,
   "id": "27ecaab4-444e-475b-bd4e-7a7a6b81816c",
   "metadata": {},
   "outputs": [],
   "source": []
  }
 ],
 "metadata": {
  "kernelspec": {
   "display_name": "Python 3",
   "language": "python",
   "name": "python3"
  },
  "language_info": {
   "codemirror_mode": {
    "name": "ipython",
    "version": 3
   },
   "file_extension": ".py",
   "mimetype": "text/x-python",
   "name": "python",
   "nbconvert_exporter": "python",
   "pygments_lexer": "ipython3",
   "version": "3.8.5"
  }
 },
 "nbformat": 4,
 "nbformat_minor": 5
}
