{
 "cells": [
  {
   "cell_type": "markdown",
   "id": "musical-crowd",
   "metadata": {},
   "source": [
    "# Double Elastic Pendulum"
   ]
  },
  {
   "cell_type": "markdown",
   "id": "a27a8361-c41a-4d80-b824-e29acacf9960",
   "metadata": {},
   "source": [
    "## Computing the Lagrangian\n",
    "\n",
    "#### Coordinate definitions\n",
    "We will be considering a double pendulum comprised of two springs.\n",
    "\n",
    "- Spring 1: Spring constant $k_1$. Length $l_1$. Equilibrium length $l_{0,1}$.\n",
    "- Spring 2: Spring constant $k_2$. Length $l_1$. Equilibrium length $l_{0,2}$.\n",
    "- Mass 1 (end of spring 1): Mass of $m_1$.\n",
    "- Mass 2 (end of spring 2): Mass of $m_2$.\n",
    "\n",
    "The generalized coordinates will be:\n",
    "- $(l_1, \\theta_1)$\n",
    "- $(l_2, \\theta_2)$\n",
    "\n",
    "#### Total kinetic energy\n",
    "$$T = \\frac{1}{2}m_1v_1^2 + \\frac{1}{2}m_2v_2^2$$\n",
    "We recall that in polar coordinates, the velocity vector is given by:\n",
    "$$\\mathbf{v}  = \\dot{r}\\hat{r} + r\\dot{\\theta}\\hat{\\theta} \\implies \\mathbf{v}^2 = \\dot{r}^2 + r^2{\\dot{\\theta}}^2$$\n",
    "The total kinetic energy is then:\n",
    "$$\\boxed{T = \\frac{1}{2}m_1\\left(\\dot{l}_1^2 + l_1\\dot{\\theta}_1^2\\right) + \\frac{1}{2}m_2\\left(\\dot{l}_2^2 + l_2\\dot{\\theta}_2^2\\right)}.$$\n",
    "\n",
    "#### Total potential energy\n",
    "This will be derived from the total gravitational potential energy of the masses as well as the associated elastic potentials. I will take the reference height to be the location of the attachment point of the first spring at $y  = 0$. Heights below this have negative gravitational potential energy.\n",
    "$$U = -m_1gl_1\\cos\\theta_1 - m_2g(l_1\\cos\\theta_1 + l_2\\cos\\theta_2) + \\frac{1}{2}k_1(l_1 - l_{01})^2 + \\frac{1}{2}k_2(l_2 - l_{02})^2$$\n",
    "$$\\boxed{U = -(m_1 + m_2)gl_1\\cos\\theta_1 - m_2gl_2\\cos\\theta_2 + \\frac{1}{2}k_1(l_1 - l_{01})^2 + \\frac{1}{2}k_2(l_2 - l_{02})^2}$$\n",
    "\n",
    "#### The Lagrangian (in polar coordinates)\n",
    "Since we have computed the total kinetic and potential energy, we can now write down the Lagrangian.\n",
    "$$\\mathcal{L} = T - U$$\n",
    "$$\\boxed{\\mathcal{L} = \\frac{1}{2}m_1\\left(\\dot{l}_1^2 + l_1\\dot{\\theta}_1^2\\right) + \\frac{1}{2}m_2\\left(\\dot{l}_2^2 + l_2\\dot{\\theta}_2^2\\right) + (m_1 + m_2)gl_1\\cos\\theta_1 + m_2gl_2\\cos\\theta_2 - \\frac{1}{2}k_1(l_1 - l_{01})^2 - \\frac{1}{2}k_2(l_2 - l_{02})^2}$$\n",
    "\n",
    "\n",
    "\n",
    "\n",
    "<!-- Kinetic energy of mass 1:\n",
    "$$T_1 = \\frac{1}{2}m_1(\\dot{x}_1^2 + \\dot{y}_1^2)$$\n",
    "Potential energy of mass 1 (gravitational and elastic):\n",
    "$$U_1 = -m_1 g y_1\\cos\\theta_1 + \\frac{1}{2}k_1(l_1 - l_{01})^2$$\n",
    "$$U_1 = -m_1 g l_1\\cos\\theta_1 + \\frac{1}{2}k_1(l_1 - l_{01})^2$$\n",
    "\n",
    "Kinetic energy of mass 2:\n",
    "$$T_2 = \\frac{1}{2}m_2(\\dot{x}_2^2 + \\dot{y}_2^2)$$\n",
    "Potential energy of mass 2 (gravitational and elastic):\n",
    "We note that this mass has a gravitational potential dependent on the orientations of both springs.\n",
    "$$U_2 = -y_2\\cos\\theta_2 - y_1\\cos\\theta_1 + \\frac{1}{2}k_2(l_2 - l_{02})^2$$\n",
    "$$U_2 = -m_2 g l_2\\cos\\theta_2 - m_2 g l_1\\cos\\theta_1 + \\frac{1}{2}k_2(l_2 - l_{02})^2$$\n",
    "\n",
    "Total kinetic energy:\n",
    "$$T = T_1 + T_2$$\n",
    "$$T = \\frac{1}{2}m_1(\\dot{x}_1^2 + \\dot{y}_1^2) + \\frac{1}{2}m_2(\\dot{x}_2^2 + \\dot{y}_2^2)$$\n",
    "\n",
    "Total potential energy:\n",
    "$$U = U_1 + U_2$$\n",
    "$$U = m_1 g l_1\\cos\\theta_1 + \\frac{1}{2}k_1(l_1 - l_{01})^2 - m_2 g l_2\\cos\\theta_2 - m_2 g l_1\\cos\\theta_1 + \\frac{1}{2}k_2(l_2 - l_{02})^2$$\n",
    "\n",
    "The Lagrangian:\n",
    "$$\\mathcal{L} = T - U$$\n",
    "$$\\mathcal{L} = \\frac{1}{2}m_1(\\dot{x}_1^2 + \\dot{y}_1^2) + \\frac{1}{2}m_2(\\dot{x}_2^2 + \\dot{y}_2^2) + m_1 g l_1\\cos\\theta_1 - \\frac{1}{2}k_1(l_1 - l_{01})^2 + m_2 g l_2\\cos\\theta_2 + m_2 g l_1\\cos\\theta_1 - \\frac{1}{2}k_2(l_2 - l_{02})^2$$\n",
    "$$\\mathcal{L} = \\frac{1}{2}m_1(\\dot{x}_1^2 + \\dot{y}_1^2) + \\frac{1}{2}m_2(\\dot{x}_2^2 + \\dot{y}_2^2) + m_1 g l_1\\cos\\theta_1  + m_2 g (l_1\\cos\\theta_1 + l_2\\cos\\theta_2)  - \\frac{1}{2}k_1(l_1 - l_{01})^2 - \\frac{1}{2}k_2(l_2 - l_{02})^2$$\n",
    "We note that $l_1 = \\sqrt{x_1^2 + y_1^2}$ and $l_2 = \\sqrt{x_2^2 + y_2^2}$. So, finally, in Cartesian:\n",
    "$$\\mathcal{L} = \\frac{1}{2}m_1(\\dot{x}_1^2 + \\dot{y}_1^2) + \\frac{1}{2}m_2(\\dot{x}_2^2 + \\dot{y}_2^2) + m_1 g \\sqrt{x_1^2 + y_1^2}\\cos\\theta_1  + m_2 g \\left(\\sqrt{x_1^2 + y_1^2}\\cos\\theta_1 + \\sqrt{x_2^2 + y_2^2}\\cos\\theta_2\\right)  - \\frac{1}{2}k_1\\left(\\sqrt{x_1^2 + y_1^2} - l_{01}\\right)^2 - \\frac{1}{2}k_2\\left(\\sqrt{x_2^2 + y_2^2} - l_{02}\\right)^2$$\n",
    "However, we can see that $\\cos\\theta_1 = y_1/\\sqrt{x_1^2 + y_1^2}$ and $\\cos\\theta_2 = y_2/\\sqrt{x_2^2 + y_2^2}$. So:\n",
    "$$\\boxed{\\mathcal{L} = \\frac{1}{2}m_1(\\dot{x}_1^2 + \\dot{y}_1^2) + \\frac{1}{2}m_2(\\dot{x}_2^2 + \\dot{y}_2^2) + m_1 g y_1  + m_2 g \\left(y_1 + y_2\\right)  - \\frac{1}{2}k_1\\left(\\sqrt{x_1^2 + y_1^2} - l_{01}\\right)^2 - \\frac{1}{2}k_2\\left(\\sqrt{x_2^2 + y_2^2} - l_{02}\\right)^2}.$$\n",
    "with generalized coordinates $\\mathbf{(x_1, y_1)}$ and $\\mathbf{(x_2, y_2)}$. It might be easier to consider the Lagrangian in polar coordinates.\n",
    "\n",
    "$$\\boxed{\\mathcal{L} = \\frac{1}{2}m_1\\left(\\dot{l}_1^2 + l_1^2\\dot{\\theta}_1^2\\right) + \\frac{1}{2}m_2\\left(\\dot{l}_2^2 + l_2^2\\dot{\\theta}_2^2\\right) + m_1 g l_1\\cos\\theta_1  + m_2 g \\left(l_1\\cos\\theta_1 + l_2\\cos\\theta_2\\right)  - \\frac{1}{2}k_1\\left(l_1 - l_{01}\\right)^2 - \\frac{1}{2}k_2\\left(l_2 - l_{02}\\right)^2},$$\n",
    "with generalized coordinates $\\mathbf{(l_1, \\theta_1)}$ and $\\mathbf{(l_2, \\theta_2)}$. -->"
   ]
  },
  {
   "cell_type": "markdown",
   "id": "delayed-findings",
   "metadata": {},
   "source": [
    "## Equations of Motion\n",
    "Now that we have found the Lagrangian, need to implement the Euler - Lagrange equations to determine the equations of motion."
   ]
  },
  {
   "cell_type": "markdown",
   "id": "9382a416-d612-437f-9b41-35f61f8d4666",
   "metadata": {},
   "source": [
    "$$\\frac{d}{dt}\\left(\\frac{\\partial\\mathcal{L}}{\\partial \\dot{l}_1}\\right) = \\frac{\\partial\\mathcal{L}}{\\partial l_1}$$\n",
    "$$\\frac{d}{dt}\\left( m_1\\dot{l}_1\\right) = \\frac{1}{2}m_1\\dot{\\theta}_1^2 + (m_1+m_2)g\\cos\\theta_1 - k_1(l_1 - l_{01})$$\n",
    "$$m_1\\ddot{l}_1 = \\frac{1}{2}m_1\\dot{\\theta}_1^2 + (m_1+m_2)g\\cos\\theta_1 - k_1(l_1 - l_{01})$$\n",
    "$$\\boxed{\\ddot{l}_1 = \\frac{1}{2}\\dot{\\theta}_1^2 + \\frac{m_1+m_2}{m_1}g\\cos\\theta_1 - \\frac{k_1}{m_1}(l_1 - l_{01})}$$\n",
    "\n",
    "$$\\frac{d}{dt}\\left(\\frac{\\partial\\mathcal{L}}{\\partial \\dot{\\theta}_1}\\right) = \\frac{\\partial\\mathcal{L}}{\\partial \\theta_1}$$\n",
    "$$\\frac{d}{dt}\\left(m_1l_1\\dot{\\theta}_1\\right) = -(m_1+m_2)gl_1\\sin\\theta_1$$\n",
    "$$m_1\\dot{l}_1\\dot{\\theta}_1 + m_1l_1\\ddot{\\theta}_1 = -(m_1+m_2)gl_1\\sin\\theta_1$$\n",
    "$$\\boxed{\\dot{l}_1\\dot{\\theta}_1 + l_1\\ddot{\\theta}_1 = -\\frac{m_1+m_2}{m_1}gl_1\\sin\\theta_1}$$\n",
    "\n",
    "$$\\frac{d}{dt}\\left(\\frac{\\partial\\mathcal{L}}{\\partial \\dot{l}_2}\\right) = \\frac{\\partial\\mathcal{L}}{\\partial l_2}$$\n",
    "$$\\frac{d}{dt}\\left(m_2\\dot{l}_2\\right) = \\frac{1}{2}m_2\\dot{\\theta}_2^2 + m_2g\\cos\\theta_2 - k_2(l_2-l_{02})$$\n",
    "$$m_2\\ddot{l}_2 = \\frac{1}{2}m_2\\dot{\\theta}_2^2 + m_2g\\cos\\theta_2 - k_2(l_2-l_{02})$$\n",
    "$$\\boxed{\\ddot{l}_2 = \\frac{1}{2}\\dot{\\theta}_2^2 + g\\cos\\theta_2 - \\frac{k_2}{m_2}(l_2-l_{02})}$$\n",
    "\n",
    "$$\\frac{d}{dt}\\left(\\frac{\\partial\\mathcal{L}}{\\partial \\dot{\\theta}_2}\\right) = \\frac{\\partial\\mathcal{L}}{\\partial \\theta_2}$$\n",
    "$$\\frac{d}{dt}\\left(m_2l_2\\dot{\\theta}_2\\right) = -m_2gl_2\\sin\\theta_2$$\n",
    "$$m_2\\dot{l}_2\\dot{\\theta}_2 + m_2l_2\\ddot{\\theta}_2 = -m_2gl_2\\sin\\theta_2$$\n",
    "$$\\boxed{\\dot{l}_2\\dot{\\theta}_2 + l_2\\ddot{\\theta}_2 = -gl_2\\sin\\theta_2}$$"
   ]
  },
  {
   "cell_type": "markdown",
   "id": "4e0abace-59f7-4a63-aa66-d49b60d71650",
   "metadata": {},
   "source": [
    "# Converting the ODES to First Order Systems\n",
    "Essentially all ODE solvers will act on first order systems rather than a single second order ODE. Thus, we convert each equation to a first order system. I will do this by introducing the following.\n",
    "$$z_1 = \\dot{l}_1 \\quad z_2 = \\dot{\\theta}_1 \\quad z_3 = \\dot{l}_2 \\quad z_4 = \\dot{\\theta}_2$$\n",
    "The resulting systems are then:\n",
    "$$\\boxed{z_1 = \\dot{l}_1, \\quad \\dot{z}_1 =\\frac{1}{2}\\dot{\\theta}_1^2 + \\frac{m_1 + m_2}{m_1}g\\cos\\theta_1-\\frac{k_1}{m_1}\\left(l_1 - l_{01}\\right)},$$\n",
    "$$\\boxed{z_2 = \\dot{\\theta}_1, \\quad \\dot{l}_1z_2 + l_1\\dot{z}_2 = -\\frac{m_1 + m_2}{m_1}gl_1\\sin\\theta_1},$$\n",
    "$$\\boxed{z_3 = \\dot{l}_2, \\quad \\dot{z}_3 = \\frac{1}{2}\\dot{\\theta}_2^2 + g\\cos\\theta_2 - \\frac{k_2}{m_2}(l_2-l_{02})},$$\n",
    "$$\\boxed{z_4 = \\dot{\\theta}_2 \\quad \\dot{l}_2z_4 + l_2\\dot{z}_4 = -gl_2\\sin\\theta_2 }$$"
   ]
  },
  {
   "cell_type": "markdown",
   "id": "ff876b28-e003-4315-8900-e5f8f073e27a",
   "metadata": {},
   "source": [
    "# Solving the Nonlinear ODEs"
   ]
  },
  {
   "cell_type": "code",
   "execution_count": 10,
   "id": "77b28732-80d5-45c4-96ae-a37b12ac51eb",
   "metadata": {},
   "outputs": [],
   "source": [
    "from pendulum import *"
   ]
  },
  {
   "cell_type": "markdown",
   "id": "c944acd3-8d1f-4a48-bc99-964a7aaa452a",
   "metadata": {},
   "source": [
    "We can specify the physical constants of the system."
   ]
  },
  {
   "cell_type": "code",
   "execution_count": 14,
   "id": "f7810d46-fdb1-4ee7-868c-1bf6c5737e5a",
   "metadata": {},
   "outputs": [],
   "source": [
    "m1 = 1 # Mass of mass 1 (kg)\n",
    "m2 = 1 # Mass of mass 2 (kg)\n",
    "k1 = 10 # Spring constant of spring 1 (N/m)\n",
    "l01 = 1 # Equilibrium length of spring 1 (m)\n",
    "k2 = 10 # Spring constant of spring 2 (N/m)\n",
    "l02 = 1 # Equilibrium length of spring 2 (m)"
   ]
  },
  {
   "cell_type": "markdown",
   "id": "d11a84a4-be5e-44fb-a906-01cb4e8d6347",
   "metadata": {},
   "source": [
    "Since we are solving 8 first order ODEs, we will need to specify eight pieces of initial data to fully specify the solution."
   ]
  },
  {
   "cell_type": "code",
   "execution_count": 12,
   "id": "5015b947-35a5-4462-af8d-7e5c1ab8e891",
   "metadata": {},
   "outputs": [],
   "source": [
    "# Spring 1 initial data\n",
    "l10 = 1 # Initial length of spring 1 (m)\n",
    "l1dot0 = 0 # Initial velocity of spring 1 length (m/s)\n",
    "theta10 = np.pi/4 # Initial angular displacement of spring 1 (rad)\n",
    "theta1dot0 = 0 # Initial angular velocity of spring 1 (rad/s)"
   ]
  },
  {
   "cell_type": "code",
   "execution_count": 13,
   "id": "16339ee7-cae3-479f-adc9-50d5ac5af4dc",
   "metadata": {},
   "outputs": [],
   "source": [
    "# Spring 2 initial data\n",
    "l20 = 1 # Initial length of spring 2 (m)\n",
    "l2dot0 = 0 # Initial velocity of spring 2 length (m/s)\n",
    "theta20 = np.pi/4 # Initial angular displacement of spring 2 (rad)\n",
    "theta2dot0 = 0 # Initial angular velocity of spring 2 (rad/s)"
   ]
  },
  {
   "cell_type": "markdown",
   "id": "7dc0292a-9f09-4f65-bd62-27c9f92ac2df",
   "metadata": {},
   "source": [
    "We can also specify the timescale which we would like to consider."
   ]
  },
  {
   "cell_type": "code",
   "execution_count": 15,
   "id": "e98afb29-9c81-47c7-bedb-519c5fc45c99",
   "metadata": {},
   "outputs": [],
   "source": [
    "Tmin = 0 # Minimum time (s)\n",
    "Tmax = 10 #Maximum time (s)\n",
    "numpoints = 10000 # Number of entries in t array"
   ]
  },
  {
   "cell_type": "markdown",
   "id": "2fb02b44-9828-4cfd-909c-9bdac0a2a6b1",
   "metadata": {},
   "source": [
    "With all parameters specified, we can call the ODE solver to obtain a solution for all of the ODEs."
   ]
  },
  {
   "cell_type": "code",
   "execution_count": 10,
   "id": "d04195de-8ff3-436e-a022-b26319f77702",
   "metadata": {},
   "outputs": [],
   "source": [
    "# Preparing data for the ODE solver\n",
    "initial_conditions = [(l10,l1dot0,theta10,theta1dot0),  (l20,l2dot0,theta20,theta2dot0)] # Construct initial data array\n",
    "constants = (m1,m2,k1,k2,l01,l02) # Construct physical constants tuple\n",
    "t = np.linspace(Tmin, Tmax, numpoints) # Construct t array\n",
    "l1, theta1, l2, theta2 = solve_ode(initial_conditions, t, constants) # Send everything to the ODE solver"
   ]
  },
  {
   "cell_type": "markdown",
   "id": "74f6da22-d61c-433f-886f-eee9d433bbb3",
   "metadata": {},
   "source": [
    "# Converstion to Cartesian for Plotting"
   ]
  },
  {
   "cell_type": "code",
   "execution_count": 16,
   "id": "01da4ff5-b52e-4693-ad33-0070ef98ca06",
   "metadata": {},
   "outputs": [],
   "source": [
    "x1, y1, x2, y2 = convert_to_cartesian(l1, theta1, l2, theta2)"
   ]
  },
  {
   "cell_type": "code",
   "execution_count": 17,
   "id": "dde7d709-2fb8-436b-add9-3068665e4039",
   "metadata": {},
   "outputs": [
    {
     "data": {
      "text/plain": [
       "<matplotlib.collections.PathCollection at 0x7f92ce87f1f0>"
      ]
     },
     "execution_count": 17,
     "metadata": {},
     "output_type": "execute_result"
    },
    {
     "data": {
      "image/png": "[encoded data removed]",
      "text/plain": [
       "<Figure size 432x288 with 1 Axes>"
      ]
     },
     "metadata": {
      "needs_background": "light"
     },
     "output_type": "display_data"
    }
   ],
   "source": [
    "plt.scatter(x1,y1)"
   ]
  },
  {
   "cell_type": "code",
   "execution_count": 18,
   "id": "acc6549f-cbf4-4775-bee8-bfb3f7c830a9",
   "metadata": {},
   "outputs": [
    {
     "data": {
      "text/plain": [
       "<matplotlib.collections.PathCollection at 0x7f92ce7d93a0>"
      ]
     },
     "execution_count": 18,
     "metadata": {},
     "output_type": "execute_result"
    },
    {
     "data": {
      "image/png": "[encoded data removed]",
      "text/plain": [
       "<Figure size 432x288 with 1 Axes>"
      ]
     },
     "metadata": {
      "needs_background": "light"
     },
     "output_type": "display_data"
    }
   ],
   "source": [
    "plt.scatter(x2,y2)"
   ]
  },
  {
   "cell_type": "code",
   "execution_count": null,
   "id": "13c7e373-f731-4a25-a694-45c8bd9e651d",
   "metadata": {},
   "outputs": [],
   "source": []
  }
 ],
 "metadata": {
  "kernelspec": {
   "display_name": "Python 3",
   "language": "python",
   "name": "python3"
  },
  "language_info": {
   "codemirror_mode": {
    "name": "ipython",
    "version": 3
   },
   "file_extension": ".py",
   "mimetype": "text/x-python",
   "name": "python",
   "nbconvert_exporter": "python",
   "pygments_lexer": "ipython3",
   "version": "3.8.5"
  }
 },
 "nbformat": 4,
 "nbformat_minor": 5
}
